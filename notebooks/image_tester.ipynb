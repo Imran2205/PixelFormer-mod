{
 "cells": [
  {
   "cell_type": "code",
   "execution_count": 47,
   "outputs": [],
   "source": [
    "import cv2\n",
    "import numpy as np\n",
    "import glob\n",
    "import os\n",
    "import shutil\n",
    "from tqdm import tqdm\n",
    "from PIL import Image\n",
    "import matplotlib.pyplot as plt\n",
    "from PIL import ImageFile\n",
    "ImageFile.LOAD_TRUNCATED_IMAGES = True"
   ],
   "metadata": {
    "collapsed": false,
    "pycharm": {
     "name": "#%%\n"
    }
   }
  },
  {
   "cell_type": "code",
   "execution_count": 48,
   "outputs": [],
   "source": [
    "data_path = \"/Volumes/mac_ext_0/research_e/dataset/out\"\n",
    "export_path = \"/Volumes/mac_ext_0/research_e/dataset/carla_depth_dataset_32b\"\n",
    "\n",
    "rgb_imgs = glob.glob(\n",
    "    os.path.join(\n",
    "        data_path,\n",
    "        '*/rgb/*.png'\n",
    "    )\n",
    ")\n",
    "\n",
    "depth_imgs = [x.replace('/rgb/', '/depth_gray/') for x in rgb_imgs]"
   ],
   "metadata": {
    "collapsed": false,
    "pycharm": {
     "name": "#%%\n"
    }
   }
  },
  {
   "cell_type": "code",
   "execution_count": 49,
   "id": "87deef71",
   "metadata": {},
   "outputs": [],
   "source": [
    "export_depth_path = os.path.join(export_path, 'depth')\n",
    "export_rgb_path = os.path.join(export_path, 'rgb')\n",
    "\n",
    "if not os.path.exists(export_depth_path):\n",
    "    os.makedirs(export_depth_path)\n",
    "    \n",
    "if not os.path.exists(export_rgb_path):\n",
    "    os.makedirs(export_rgb_path)"
   ]
  },
  {
   "cell_type": "code",
   "execution_count": 50,
   "id": "2198f3e4",
   "metadata": {},
   "outputs": [
    {
     "name": "stderr",
     "output_type": "stream",
     "text": [
      "100%|██████████| 1510/1510 [08:34<00:00,  2.94it/s]\n"
     ]
    }
   ],
   "source": [
    "for i in tqdm(range(len(rgb_imgs))):\n",
    "    img = Image.open(rgb_imgs[i]).convert('RGB')\n",
    "\n",
    "    depth = Image.open(depth_imgs[i]).convert('L')\n",
    "    depth = np.asarray(depth, dtype=np.int16) * (2**8)\n",
    "    depth = Image.fromarray(depth, mode='I;16')\n",
    "\n",
    "    img.save(os.path.join(export_rgb_path, f'{str(i+1).zfill(8)}.png'))\n",
    "    depth.save(os.path.join(export_depth_path, f'{str(i+1).zfill(8)}.png'))"
   ]
  },
  {
   "cell_type": "code",
   "execution_count": 41,
   "id": "b459f1a4",
   "metadata": {},
   "outputs": [],
   "source": [
    "image_path2 = r\"/Volumes/mac_ext_0/research_e/dataset/carla_depth_dataset/depth/00000001.png\"\n",
    "# image_path2 = \"/Users/imrankabir/Downloads/sync_depth_00038.png\"\n",
    "\n",
    "img2 = Image.open(image_path2).convert('L')\n",
    "img2 = np.asarray(img2, dtype=np.int16) * (2**8)\n",
    "img2 = Image.fromarray(img2, mode='I;16')\n",
    "img2.save(\"demo.png\")"
   ]
  },
  {
   "cell_type": "code",
   "execution_count": 59,
   "outputs": [],
   "source": [
    "image_path2 = r\"/Volumes/mac_ext_0/research_e/dataset/carla_depth_dataset_16b/depth/00000001.png\"\n",
    "img2 = cv2.imread(image_path2, cv2.IMREAD_UNCHANGED)"
   ],
   "metadata": {
    "collapsed": false,
    "pycharm": {
     "name": "#%%\n"
    }
   }
  },
  {
   "cell_type": "code",
   "execution_count": 60,
   "id": "a04fa9bd",
   "metadata": {},
   "outputs": [
    {
     "name": "stdout",
     "output_type": "stream",
     "text": [
      "(720, 1280)\n",
      "[  256   512   768  1024  1280  1536  1792  2048  2304  2560  2816  3072\n",
      "  3328  3584  3840  4096  4352  4608  4864  5120  5376  5632  5888  6144\n",
      "  6400  6656  6912  7168  7424  7680  7936  8192  8448  8704  8960  9216\n",
      "  9472  9728  9984 10496 10752 11776 65280]\n",
      "2560\n",
      "uint16\n"
     ]
    }
   ],
   "source": [
    "print(np.asarray(img2).shape)\n",
    "print(np.unique(np.asarray(img2)))\n",
    "print(np.asarray(img2)[300][500])\n",
    "print(np.asarray(img2).dtype)"
   ]
  },
  {
   "cell_type": "code",
   "execution_count": null,
   "outputs": [],
   "source": [],
   "metadata": {
    "collapsed": false,
    "pycharm": {
     "name": "#%%\n"
    }
   }
  },
  {
   "cell_type": "code",
   "execution_count": null,
   "id": "008b1270",
   "metadata": {},
   "outputs": [],
   "source": []
  }
 ],
 "metadata": {
  "kernelspec": {
   "display_name": "Python 3 (ipykernel)",
   "language": "python",
   "name": "python3"
  },
  "language_info": {
   "codemirror_mode": {
    "name": "ipython",
    "version": 3
   },
   "file_extension": ".py",
   "mimetype": "text/x-python",
   "name": "python",
   "nbconvert_exporter": "python",
   "pygments_lexer": "ipython3",
   "version": "3.8.12"
  }
 },
 "nbformat": 4,
 "nbformat_minor": 5
}