{
 "cells": [
  {
   "cell_type": "code",
   "execution_count": 1,
   "outputs": [],
   "source": [
    "import cv2\n",
    "import numpy as np\n",
    "import glob\n",
    "import os\n",
    "import shutil\n",
    "from tqdm import tqdm\n",
    "from PIL import Image"
   ],
   "metadata": {
    "collapsed": false,
    "pycharm": {
     "name": "#%%\n"
    }
   }
  },
  {
   "cell_type": "code",
   "execution_count": 1,
   "outputs": [],
   "source": [
    "\n",
    "\n",
    "data_path = \"/Volumes/mac_ext_0/research_e/dataset/out\"\n",
    "export_path = \"/Volumes/mac_ext_0/research_e/dataset/carla_depth_dataset\"\n",
    "\n",
    "rgb_imgs = glob.glob(\n",
    "    os.path.join(\n",
    "        data_path,\n",
    "        '*/rgb/*.png'\n",
    "    )\n",
    ")\n",
    "\n",
    "depth_imgs = [x.replace('/rgb/', '/depth_gray/') for x in rgb_imgs]"
   ],
   "metadata": {
    "collapsed": false,
    "pycharm": {
     "name": "#%%\n"
    }
   }
  },
  {
   "cell_type": "code",
   "execution_count": 2,
   "id": "87deef71",
   "metadata": {},
   "outputs": [],
   "source": [
    "export_depth_path = os.path.join(export_path, 'depth')\n",
    "export_rgb_path = os.path.join(export_path, 'rgb')\n",
    "\n",
    "if not os.path.exists(export_depth_path):\n",
    "    os.makedirs(export_depth_path)\n",
    "    \n",
    "if not os.path.exists(export_rgb_path):\n",
    "    os.makedirs(export_rgb_path)"
   ]
  },
  {
   "cell_type": "code",
   "execution_count": 3,
   "id": "2198f3e4",
   "metadata": {},
   "outputs": [
    {
     "name": "stderr",
     "output_type": "stream",
     "text": [
      "100%|█████████████████████████████████████████████████████████████████████████████████████████████████████████████████████████████████████████████████████████████████████████████████████████████████████████████████████████████████████████████████████████████████████████████████| 1510/1510 [00:12<00:00, 116.92it/s]\n"
     ]
    }
   ],
   "source": [
    "for i in tqdm(range(len(rgb_imgs))):\n",
    "    shutil.copy(rgb_imgs[i], os.path.join(export_rgb_path, f'{str(i+1).zfill(8)}.png'))\n",
    "    shutil.copy(depth_imgs[i], os.path.join(export_depth_path, f'{str(i+1).zfill(8)}.png'))"
   ]
  },
  {
   "cell_type": "code",
   "execution_count": 7,
   "id": "b459f1a4",
   "metadata": {},
   "outputs": [],
   "source": [
    "image_path2 = r\"C:\\Users\\admin\\Downloads\\00000001_1.png\"\n",
    "\n",
    "img2 = Image.open(image_path2)"
   ]
  },
  {
   "cell_type": "code",
   "execution_count": 9,
   "id": "a04fa9bd",
   "metadata": {},
   "outputs": [
    {
     "name": "stdout",
     "output_type": "stream",
     "text": [
      "(720, 1280, 4)\n",
      "[  1   2   3   4   5   6   7   8   9  10  11  12  13  14  15  16  17  18\n",
      "  19  20  21  22  23  24  25  26  27  28  29  30  31  32  33  34  35  36\n",
      "  37  38  39  41  42  46 255]\n"
     ]
    }
   ],
   "source": [
    "print(np.asarray(img2).shape)\n",
    "print(np.unique(np.asarray(img2)))"
   ]
  },
  {
   "cell_type": "code",
   "execution_count": null,
   "id": "008b1270",
   "metadata": {},
   "outputs": [],
   "source": []
  }
 ],
 "metadata": {
  "kernelspec": {
   "display_name": "Python 3 (ipykernel)",
   "language": "python",
   "name": "python3"
  },
  "language_info": {
   "codemirror_mode": {
    "name": "ipython",
    "version": 3
   },
   "file_extension": ".py",
   "mimetype": "text/x-python",
   "name": "python",
   "nbconvert_exporter": "python",
   "pygments_lexer": "ipython3",
   "version": "3.8.12"
  }
 },
 "nbformat": 4,
 "nbformat_minor": 5
}