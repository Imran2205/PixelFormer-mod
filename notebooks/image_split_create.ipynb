{
 "cells": [
  {
   "cell_type": "code",
   "execution_count": 11,
   "id": "d9e0f7c5",
   "metadata": {},
   "outputs": [],
   "source": [
    "import cv2\n",
    "import numpy as np\n",
    "import glob\n",
    "import os\n",
    "import shutil\n",
    "from tqdm import tqdm\n",
    "import random\n",
    "\n",
    "data_path = \"/Volumes/mac_ext_0/research_e/dataset/carla_depth_dataset\"\n",
    "\n",
    "rgb_imgs = glob.glob(\n",
    "    os.path.join(\n",
    "        data_path,\n",
    "        'rgb/*.png'\n",
    "    )\n",
    ")\n",
    "\n",
    "depth_imgs = [x.replace('/rgb/', '/depth/') for x in rgb_imgs]"
   ]
  },
  {
   "cell_type": "code",
   "execution_count": 12,
   "id": "87deef71",
   "metadata": {},
   "outputs": [],
   "source": [
    "test_indices_selector = random.sample(range(0, len(rgb_imgs) - 1), 200)"
   ]
  },
  {
   "cell_type": "code",
   "execution_count": 13,
   "id": "2198f3e4",
   "metadata": {},
   "outputs": [
    {
     "name": "stderr",
     "output_type": "stream",
     "text": [
      "100%|██████████████████████████████████████████████████████████████████████████████████████████████████████████████████████████████████████████████████████████████████████████████████████████████████████████████████████████████████████████████████████████████████████████████| 1510/1510 [00:00<00:00, 182062.24it/s]\n"
     ]
    }
   ],
   "source": [
    "train_list = []\n",
    "val_list = []\n",
    "\n",
    "for i in tqdm(range(len(rgb_imgs))):\n",
    "    if i not in test_indices_selector:\n",
    "        train_list.append(\n",
    "            f\"{rgb_imgs[i].replace(data_path, '')} {depth_imgs[i].replace(data_path, '')} 1000.0\"\n",
    "        )\n",
    "    else:\n",
    "        val_list.append(\n",
    "            f\"{rgb_imgs[i].replace(data_path, '')} {depth_imgs[i].replace(data_path, '')} 1000.0\"\n",
    "        )"
   ]
  },
  {
   "cell_type": "code",
   "execution_count": 17,
   "id": "b459f1a4",
   "metadata": {},
   "outputs": [],
   "source": [
    "with open(os.path.join(data_path, 'train_split.txt'), 'w') as f:\n",
    "    f.write(\"\\n\".join(train_list))\n",
    "    \n",
    "with open(os.path.join(data_path, 'validation_split.txt'), 'w') as f:\n",
    "    f.write(\"\\n\".join(val_list))"
   ]
  },
  {
   "cell_type": "code",
   "execution_count": 5,
   "id": "a04fa9bd",
   "metadata": {},
   "outputs": [],
   "source": [
    "# print(np.max(img2))"
   ]
  },
  {
   "cell_type": "code",
   "execution_count": null,
   "id": "008b1270",
   "metadata": {},
   "outputs": [],
   "source": []
  }
 ],
 "metadata": {
  "kernelspec": {
   "display_name": "Python 3 (ipykernel)",
   "language": "python",
   "name": "python3"
  },
  "language_info": {
   "codemirror_mode": {
    "name": "ipython",
    "version": 3
   },
   "file_extension": ".py",
   "mimetype": "text/x-python",
   "name": "python",
   "nbconvert_exporter": "python",
   "pygments_lexer": "ipython3",
   "version": "3.8.12"
  }
 },
 "nbformat": 4,
 "nbformat_minor": 5
}
