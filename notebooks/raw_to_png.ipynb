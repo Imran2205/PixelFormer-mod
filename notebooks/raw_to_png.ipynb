{
 "cells": [
  {
   "cell_type": "code",
   "execution_count": 14,
   "outputs": [],
   "source": [
    "import os.path\n",
    "\n",
    "from PIL import Image\n",
    "import numpy as np\n",
    "import plotly.express as px\n",
    "import cv2\n",
    "import png\n",
    "import io\n",
    "import glob\n",
    "from tqdm import tqdm\n",
    "import shutil"
   ],
   "metadata": {
    "collapsed": false,
    "pycharm": {
     "name": "#%%\n"
    }
   }
  },
  {
   "cell_type": "code",
   "execution_count": 15,
   "outputs": [],
   "source": [
    "def save_image(arr, filename):\n",
    "    # is_success, buffer = cv2.imencode(\".tiff\", arr)\n",
    "    # io_buf = io.BytesIO(buffer)\n",
    "    # print(type(io_buf))\n",
    "    # with open(filename, 'wb') as f:\n",
    "    #     f.write(io_buf.read())\n",
    "    cv2.imwrite(filename, arr)\n",
    "\n",
    "\n",
    "def raw_depth_to_gray_32bit(raw_depth, verbose=False):\n",
    "    depth = raw_depth.convert('RGB')\n",
    "    depth = np.array(depth)\n",
    "\n",
    "    if verbose:\n",
    "        print(np.max(depth), np.min(depth), depth.shape, depth.dtype)\n",
    "\n",
    "    depth = np.dot(depth[..., :3], [1, 256, 256 * 256]).astype(np.int32)\n",
    "\n",
    "    if verbose:\n",
    "        print(np.max(depth), np.min(depth), depth.shape, depth.dtype)\n",
    "\n",
    "    return depth"
   ],
   "metadata": {
    "collapsed": false,
    "pycharm": {
     "name": "#%%\n"
    }
   }
  },
  {
   "cell_type": "code",
   "execution_count": 21,
   "outputs": [
    {
     "name": "stderr",
     "output_type": "stream",
     "text": [
      "100%|██████████| 2427/2427 [00:34<00:00, 69.37it/s]\n"
     ]
    }
   ],
   "source": [
    "source_dir = \"/Volumes/ssd_imran/carla_dataset/training/validation_dpth/depth\"\n",
    "dest_dir = \"/Volumes/ssd_imran/carla_dataset/training/validation_dpth/depth_gray\"\n",
    "\n",
    "images = glob.glob(\n",
    "    os.path.join(\n",
    "        source_dir,\n",
    "        '*.png'\n",
    "    )\n",
    ")\n",
    "\n",
    "for img_path in tqdm(images):\n",
    "    img = Image.open(img_path)\n",
    "    img = raw_depth_to_gray_32bit(img, verbose=False)\n",
    "    save_image(img, filename=img_path.replace('depth', 'depth_gray').replace('.png', '.tiff'))"
   ],
   "metadata": {
    "collapsed": false,
    "pycharm": {
     "name": "#%%\n"
    }
   }
  },
  {
   "cell_type": "code",
   "execution_count": 12,
   "outputs": [
    {
     "name": "stderr",
     "output_type": "stream",
     "text": [
      "100%|██████████| 12138/12138 [01:01<00:00, 196.04it/s]\n"
     ]
    }
   ],
   "source": [
    "source = \"/Volumes/ssd_imran/carla_dataset/testing/rgb/\"\n",
    "dest = \"/Volumes/ssd_imran/carla_dataset/testing/rgb_folder_wise/\"\n",
    "\n",
    "images = glob.glob(\n",
    "    os.path.join(\n",
    "        source,\n",
    "        '*.png'\n",
    "    )\n",
    ")\n",
    "\n",
    "for img_path in tqdm(images):\n",
    "    new_path = os.path.join(\n",
    "        dest,\n",
    "        \"_\".join(os.path.basename(img_path).split('_')[:-1])\n",
    "    )\n",
    "    if not os.path.exists(new_path):\n",
    "        os.makedirs(new_path)\n",
    "    shutil.copy(img_path, new_path)"
   ],
   "metadata": {
    "collapsed": false,
    "pycharm": {
     "name": "#%%\n"
    }
   }
  },
  {
   "cell_type": "code",
   "execution_count": 20,
   "outputs": [
    {
     "name": "stderr",
     "output_type": "stream",
     "text": [
      "100%|██████████| 2427/2427 [00:21<00:00, 113.77it/s]\n"
     ]
    }
   ],
   "source": [
    "source = \"/Volumes/ssd_imran/carla_dataset/training/carla_semantic/validation/labels\"\n",
    "\n",
    "images = glob.glob(\n",
    "    os.path.join(\n",
    "        source,\n",
    "        '*.png'\n",
    "    )\n",
    ")\n",
    "\n",
    "for img_pth in tqdm(images):\n",
    "    img = Image.open(img_pth).convert('RGB')\n",
    "    img = np.array(img)[:, :, 0]\n",
    "    img = Image.fromarray(img, mode='L')\n",
    "    img.save(img_pth)"
   ],
   "metadata": {
    "collapsed": false,
    "pycharm": {
     "name": "#%%\n"
    }
   }
  },
  {
   "cell_type": "code",
   "execution_count": 24,
   "outputs": [
    {
     "name": "stderr",
     "output_type": "stream",
     "text": [
      "100%|██████████| 9706/9706 [13:20<00:00, 12.13it/s]\n"
     ]
    }
   ],
   "source": [
    "source = \"/Volumes/ssd_imran/carla_dataset/training/carla_semantic/train/images\"\n",
    "\n",
    "images = glob.glob(\n",
    "    os.path.join(\n",
    "        source,\n",
    "        '*.png'\n",
    "    )\n",
    ")\n",
    "\n",
    "for img_pth in tqdm(images):\n",
    "    img = Image.open(img_pth).convert('RGB')\n",
    "    img.save(img_pth)"
   ],
   "metadata": {
    "collapsed": false,
    "pycharm": {
     "name": "#%%\n"
    }
   }
  },
  {
   "cell_type": "code",
   "execution_count": null,
   "outputs": [
    {
     "name": "stderr",
     "output_type": "stream",
     "text": [
      " 83%|████████▎ | 10047/12138 [14:20<03:42,  9.39it/s]"
     ]
    }
   ],
   "source": [
    "source = \"/Volumes/ssd_imran/carla_dataset/testing/rgb_folder_wise\"\n",
    "\n",
    "images = glob.glob(\n",
    "    os.path.join(\n",
    "        source,\n",
    "        '*/*.png'\n",
    "    )\n",
    ")\n",
    "\n",
    "for img_pth in tqdm(images):\n",
    "    img = Image.open(img_pth).convert('RGB')\n",
    "    img.save(img_pth)"
   ],
   "metadata": {
    "collapsed": false,
    "pycharm": {
     "name": "#%%\n",
     "is_executing": true
    }
   }
  },
  {
   "cell_type": "code",
   "execution_count": null,
   "outputs": [],
   "source": [],
   "metadata": {
    "collapsed": false,
    "pycharm": {
     "name": "#%%\n"
    }
   }
  }
 ],
 "metadata": {
  "kernelspec": {
   "display_name": "Python 3",
   "language": "python",
   "name": "python3"
  },
  "language_info": {
   "codemirror_mode": {
    "name": "ipython",
    "version": 2
   },
   "file_extension": ".py",
   "mimetype": "text/x-python",
   "name": "python",
   "nbconvert_exporter": "python",
   "pygments_lexer": "ipython2",
   "version": "2.7.6"
  }
 },
 "nbformat": 4,
 "nbformat_minor": 0
}